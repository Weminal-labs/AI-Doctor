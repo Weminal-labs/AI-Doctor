{
 "cells": [
  {
   "cell_type": "code",
   "execution_count": 18,
   "metadata": {},
   "outputs": [
    {
     "name": "stderr",
     "output_type": "stream",
     "text": [
      "Cloning into 'developer-docs'...\n"
     ]
    }
   ],
   "source": [
    "!git clone https://github.com/aptos-labs/developer-docs.git"
   ]
  },
  {
   "cell_type": "code",
   "execution_count": 2,
   "metadata": {},
   "outputs": [
    {
     "name": "stdout",
     "output_type": "stream",
     "text": [
      "database\\NFT_MARKETPLACE_1\n",
      "Đã chuyển đổi: database\\NFT_MARKETPLACE_1.md -> database\\NFT_MARKETPLACE_1.txt\n",
      "database\\NFT_MARKETPLACE_2\n",
      "Đã chuyển đổi: database\\NFT_MARKETPLACE_2.md -> database\\NFT_MARKETPLACE_2.txt\n",
      "database\\NFT_MARKETPLACE_3\n",
      "Đã chuyển đổi: database\\NFT_MARKETPLACE_3.md -> database\\NFT_MARKETPLACE_3.txt\n",
      "database\\NFT_MARKETPLACE_4\n",
      "Đã chuyển đổi: database\\NFT_MARKETPLACE_4.md -> database\\NFT_MARKETPLACE_4.txt\n",
      "database\\NFT_MARKETPLACE_5\n",
      "Đã chuyển đổi: database\\NFT_MARKETPLACE_5.md -> database\\NFT_MARKETPLACE_5.txt\n",
      "database\\NFT_MARKETPLACE_6\n",
      "Đã chuyển đổi: database\\NFT_MARKETPLACE_6.md -> database\\NFT_MARKETPLACE_6.txt\n",
      "database\\SOCIAL_APP_1\n",
      "Đã chuyển đổi: database\\SOCIAL_APP_1.md -> database\\SOCIAL_APP_1.txt\n",
      "database\\SOCIAL_APP_2\n",
      "Đã chuyển đổi: database\\SOCIAL_APP_2.md -> database\\SOCIAL_APP_2.txt\n",
      "database\\SOCIAL_APP_3\n",
      "Đã chuyển đổi: database\\SOCIAL_APP_3.md -> database\\SOCIAL_APP_3.txt\n",
      "database\\SOCIAL_APP_4\n",
      "Đã chuyển đổi: database\\SOCIAL_APP_4.md -> database\\SOCIAL_APP_4.txt\n",
      "database\\SOCIAL_APP_5\n",
      "Đã chuyển đổi: database\\SOCIAL_APP_5.md -> database\\SOCIAL_APP_5.txt\n",
      "database\\SOCIAL_APP_6\n",
      "Đã chuyển đổi: database\\SOCIAL_APP_6.md -> database\\SOCIAL_APP_6.txt\n",
      "database\\SOCIAL_APP_7\n",
      "Đã chuyển đổi: database\\SOCIAL_APP_7.md -> database\\SOCIAL_APP_7.txt\n",
      "database\\STABLE_COIN_1\n",
      "Đã chuyển đổi: database\\STABLE_COIN_1.md -> database\\STABLE_COIN_1.txt\n",
      "database\\STABLE_COIN_10\n",
      "Đã chuyển đổi: database\\STABLE_COIN_10.md -> database\\STABLE_COIN_10.txt\n",
      "database\\STABLE_COIN_11\n",
      "Đã chuyển đổi: database\\STABLE_COIN_11.md -> database\\STABLE_COIN_11.txt\n",
      "database\\STABLE_COIN_12\n",
      "Đã chuyển đổi: database\\STABLE_COIN_12.md -> database\\STABLE_COIN_12.txt\n",
      "database\\STABLE_COIN_13\n",
      "Đã chuyển đổi: database\\STABLE_COIN_13.md -> database\\STABLE_COIN_13.txt\n",
      "database\\STABLE_COIN_14\n",
      "Đã chuyển đổi: database\\STABLE_COIN_14.md -> database\\STABLE_COIN_14.txt\n",
      "database\\STABLE_COIN_2\n",
      "Đã chuyển đổi: database\\STABLE_COIN_2.md -> database\\STABLE_COIN_2.txt\n",
      "database\\STABLE_COIN_3\n",
      "Đã chuyển đổi: database\\STABLE_COIN_3.md -> database\\STABLE_COIN_3.txt\n",
      "database\\STABLE_COIN_4\n",
      "Đã chuyển đổi: database\\STABLE_COIN_4.md -> database\\STABLE_COIN_4.txt\n",
      "database\\STABLE_COIN_5\n",
      "Đã chuyển đổi: database\\STABLE_COIN_5.md -> database\\STABLE_COIN_5.txt\n",
      "database\\STABLE_COIN_6\n",
      "Đã chuyển đổi: database\\STABLE_COIN_6.md -> database\\STABLE_COIN_6.txt\n",
      "database\\STABLE_COIN_7\n",
      "Đã chuyển đổi: database\\STABLE_COIN_7.md -> database\\STABLE_COIN_7.txt\n",
      "database\\STABLE_COIN_8\n",
      "Đã chuyển đổi: database\\STABLE_COIN_8.md -> database\\STABLE_COIN_8.txt\n",
      "database\\STABLE_COIN_9\n",
      "Đã chuyển đổi: database\\STABLE_COIN_9.md -> database\\STABLE_COIN_9.txt\n"
     ]
    }
   ],
   "source": [
    "import os\n",
    "import shutil\n",
    "\n",
    "def process_directory(directory, database_path):\n",
    "    for root, dirs, files in os.walk(directory):\n",
    "        count = 1\n",
    "        for file in files:\n",
    "            file_path = os.path.join(root, file)\n",
    "            \n",
    "            # Xóa file không phải Markdown\n",
    "            if  file.endswith('.md'):\n",
    "                print(file_path[:-3].split(\"/\")[-1])\n",
    "                # Chuyển đổi file Markdown thành txt\n",
    "                new_file_path = file_path[:-3] + '.txt'\n",
    "                if os.path.exists(new_file_path):\n",
    "                    new_file_path = new_file_path[:-3]+ f\"{count}\" + '.txt'\n",
    "                shutil.move(file_path, new_file_path)\n",
    "                count += 1\n",
    "                print(f\"Đã chuyển đổi: {file_path} -> {new_file_path}\")\n",
    "\n",
    "# Thay thế 'path/to/your/directory' bằng đường dẫn thực tế đến thư mục của bạn\n",
    "directory_path = 'database'\n",
    "database_path = 'database'\n",
    "process_directory(directory_path, database_path)"
   ]
  },
  {
   "cell_type": "code",
   "execution_count": 2,
   "metadata": {},
   "outputs": [
    {
     "name": "stdout",
     "output_type": "stream",
     "text": [
      "Smart ContractTutorial\n",
      "\n",
      "By\n",
      "\n",
      "JianyiBuild a billboard on Web3.\n",
      "\n",
      "module billboard_address::billboard { use std::error; use std::signer; use std::string::{String}; use std::vector; use aptos_framework::event; use aptos_framework::timestamp; const ENOT_OWNER: u64 = 1; const MAX_MESSAGES: u64 = 5; struct Billboard has key { messages: vector<Message>, oldest_index: u64 } struct Message has store, copy, drop { sender: address, message: String, added_at: u64 } #[event] struct AddedMessage has drop, store { sender: address, message: String, added_at: u64 } fun init_module(owner: &signer) { move_to(owner, Billboard { messages: vector[], oldest_index: 0 }) } public entry fun add_message(sender: &signer, message: String) acquires Billboard { let message = Message { sender: signer::address_of(sender), message, added_at: timestamp::now_seconds() }; event::emit(AddedMessage { sender: message.sender, message: message.message, added_at: message.added_at }); let billboard = borrow_global_mut<Billboard>(@billboard_address); if (vector::length(&billboard.messages) < MAX_MESSAGES) { vector::push_back(&mut billboard.messages, message); return }; *vector::borrow_mut(&mut billboard.messages, billboard.oldest_index) = message; billboard.oldest_index = (billboard.oldest_index + 1) % MAX_MESSAGES; } public entry fun clear(owner: &signer) acquires Billboard { only_owner(owner); let billboard = borrow_global_mut<Billboard>(@billboard_address); billboard.messages = vector[]; billboard.oldest_index = 0; } inline fun only_owner(owner: &signer) { assert!(signer::address_of(owner) == @billboard_address, error::permission_denied(ENOT_OWNER)); } #[view] public fun get_messages(): vector<Message> acquires Billboard { let billboard = borrow_global<Billboard>(@billboard_address); let messages = vector[]; vector::for_each(billboard.messages, |m| vector::push_back(&mut messages, m)); vector::rotate(&mut messages, billboard.oldest_index); messages } #[test(aptos_framework = @std, owner = @billboard_address, alice = @0x1234, bob = @0xb0b)] fun test_billboard_happy_path( aptos_framework: &signer, owner: &signer, alice: &signer, bob: &signer ) acquires Billboard { use std::string; timestamp::set_time_has_started_for_testing(aptos_framework); timestamp::update_global_time_for_test_secs(1000); init_module(owner); let msgs = get_messages(); assert!(vector::length(&msgs) == 0, 1); let alice_message = string::utf8(b\"alice's message\"); let bob_message = string::utf8(b\"bob's message\"); add_message(alice, alice_message); add_message(bob, bob_message); msgs = get_messages(); assert!(vector::length(&msgs) == 2, 1); assert!(vector::borrow(&msgs, 0).message == alice_message, 1); assert!(vector::borrow(&msgs, 0).sender == signer::address_of(alice), 1); assert!(vector::borrow(&msgs, 1).message == bob_message, 1); assert!(vector::borrow(&msgs, 1).sender == signer::address_of(bob), 1); add_message(alice, alice_message); add_message(alice, alice_message); add_message(alice, alice_message); add_message(alice, alice_message); msgs = get_messages(); assert!(vector::length(&msgs) == 5, 1); assert!(vector::borrow(&msgs, 0).message == bob_message, 1); assert!(vector::borrow(&msgs, 0).sender == signer::address_of(bob), 1); msgs = get_messages(); assert!(vector::length(&msgs) == 5, 1); assert!(vector::borrow(&msgs, 0).message == bob_message, 1); assert!(vector::borrow(&msgs, 0).sender == signer::address_of(bob), 1); clear(owner); msgs = get_messages(); assert!(vector::length(&msgs) == 0, 1); }}\n"
     ]
    }
   ],
   "source": [
    "import trafilatura\n",
    "downloaded = trafilatura.fetch_url('https://learn.aptoslabs.com/en/code-example/billboard')\n",
    "print(trafilatura.extract(downloaded, include_formatting= True, format= 'markdown'))"
   ]
  },
  {
   "cell_type": "code",
   "execution_count": null,
   "metadata": {},
   "outputs": [],
   "source": []
  }
 ],
 "metadata": {
  "kernelspec": {
   "display_name": "Python 3",
   "language": "python",
   "name": "python3"
  },
  "language_info": {
   "codemirror_mode": {
    "name": "ipython",
    "version": 3
   },
   "file_extension": ".py",
   "mimetype": "text/x-python",
   "name": "python",
   "nbconvert_exporter": "python",
   "pygments_lexer": "ipython3",
   "version": "3.11.0"
  }
 },
 "nbformat": 4,
 "nbformat_minor": 2
}
